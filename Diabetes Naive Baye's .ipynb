{
 "cells": [
  {
   "cell_type": "code",
   "execution_count": 1,
   "metadata": {},
   "outputs": [],
   "source": [
    "# Importing Libraries\n",
    "import pandas as pd\n",
    "import numpy as np\n",
    "import matplotlib.pyplot as plt\n",
    "from sklearn.model_selection import train_test_split\n",
    "from sklearn.naive_bayes import GaussianNB\n",
    "from sklearn.metrics import confusion_matrix, precision_recall_fscore_support"
   ]
  },
  {
   "cell_type": "code",
   "execution_count": 2,
   "metadata": {},
   "outputs": [],
   "source": [
    "# Importing Dataset\n",
    "data_set = pd.read_csv('PimaIndiansDiabetes.csv')\n",
    "X = data_set.iloc[:, :-1]   # Independent Variables separated as X\n",
    "y = data_set.iloc[:, -1]    # Dependent Variables into y"
   ]
  },
  {
   "cell_type": "code",
   "execution_count": 3,
   "metadata": {},
   "outputs": [
    {
     "name": "stdout",
     "output_type": "stream",
     "text": [
      "TimesPregnant           False\n",
      "GlucoseConcentration    False\n",
      "BloodPrs                False\n",
      "SkinThickness           False\n",
      "Serum                   False\n",
      "BMI                     False\n",
      "DiabetesFunct           False\n",
      "Age                     False\n",
      "dtype: bool\n",
      "False\n"
     ]
    }
   ],
   "source": [
    "# Check for Missing Values\n",
    "print(X.isnull().any())\n",
    "print(y.isnull().any())"
   ]
  },
  {
   "cell_type": "code",
   "execution_count": 4,
   "metadata": {},
   "outputs": [
    {
     "name": "stdout",
     "output_type": "stream",
     "text": [
      "<class 'pandas.core.frame.DataFrame'>\n",
      "RangeIndex: 768 entries, 0 to 767\n",
      "Data columns (total 8 columns):\n",
      "TimesPregnant           768 non-null int64\n",
      "GlucoseConcentration    768 non-null int64\n",
      "BloodPrs                768 non-null int64\n",
      "SkinThickness           768 non-null int64\n",
      "Serum                   768 non-null int64\n",
      "BMI                     768 non-null float64\n",
      "DiabetesFunct           768 non-null float64\n",
      "Age                     768 non-null int64\n",
      "dtypes: float64(2), int64(6)\n",
      "memory usage: 48.1 KB\n",
      "None\n"
     ]
    }
   ],
   "source": [
    "# Summary\n",
    "print(X.info())"
   ]
  },
  {
   "cell_type": "code",
   "execution_count": 5,
   "metadata": {},
   "outputs": [],
   "source": [
    "# 1. Splitting X,y into Train & Test\n",
    "X_train, X_test, y_train, y_test = train_test_split(X, y, test_size=0.20, random_state=0) "
   ]
  },
  {
   "cell_type": "code",
   "execution_count": 6,
   "metadata": {},
   "outputs": [
    {
     "name": "stdout",
     "output_type": "stream",
     "text": [
      "Accuracy of our model is: 79.2%\n"
     ]
    }
   ],
   "source": [
    "# Machine: Classifier | NB: Gaussian Naive Bayes\n",
    "from sklearn import metrics\n",
    "classifier = GaussianNB()\n",
    "classifier.fit(X_train, y_train)\n",
    "\n",
    "# Predictions\n",
    "y_pred = classifier.predict(X_test)\n",
    "score = metrics.accuracy_score(y_test, y_pred)\n",
    "print(\"Accuracy of our model is: {:.1f}%\".format(score*100))"
   ]
  },
  {
   "cell_type": "code",
   "execution_count": 7,
   "metadata": {},
   "outputs": [
    {
     "name": "stdout",
     "output_type": "stream",
     "text": [
      "[[93 14]\n",
      " [18 29]]\n",
      "\t\t\t\t ZERO\t\t\tONE\n",
      "Precision\t: [83.78378378 67.44186047]\n",
      "Recall\t\t: [86.91588785 61.70212766]\n",
      "F1 Measure\t: [85.32110092 64.44444444]\n",
      "Support\t\t: [107  47]\n"
     ]
    }
   ],
   "source": [
    "# Validating Predictions using Confusion Matrix\n",
    "cm = confusion_matrix(y_test, y_pred)\n",
    "print(cm)\n",
    "\n",
    "prf = precision_recall_fscore_support(y_test, y_pred)\n",
    "print('\\t\\t\\t\\t ZERO\\t\\t\\tONE')\n",
    "print('Precision\\t:', prf[0]*100)\n",
    "print('Recall\\t\\t:', prf[1]*100)\n",
    "print('F1 Measure\\t:', prf[2]*100)\n",
    "print('Support\\t\\t:', prf[3])\n"
   ]
  }
 ],
 "metadata": {
  "kernelspec": {
   "display_name": "Python 3",
   "language": "python",
   "name": "python3"
  },
  "language_info": {
   "codemirror_mode": {
    "name": "ipython",
    "version": 3
   },
   "file_extension": ".py",
   "mimetype": "text/x-python",
   "name": "python",
   "nbconvert_exporter": "python",
   "pygments_lexer": "ipython3",
   "version": "3.7.4"
  }
 },
 "nbformat": 4,
 "nbformat_minor": 2
}
